{
 "cells": [
  {
   "cell_type": "code",
   "execution_count": 1,
   "id": "c227777c",
   "metadata": {
    "execution": {
     "iopub.execute_input": "2024-12-07T17:25:53.730670Z",
     "iopub.status.busy": "2024-12-07T17:25:53.729947Z",
     "iopub.status.idle": "2024-12-07T17:25:54.063053Z",
     "shell.execute_reply": "2024-12-07T17:25:54.062315Z"
    }
   },
   "outputs": [],
   "source": [
    "from dataclasses import replace\n",
    "\n",
    "import pandas as pd\n",
    "\n",
    "from libs.mortgage import Mortgage"
   ]
  },
  {
   "cell_type": "code",
   "execution_count": 2,
   "id": "fe9236c1",
   "metadata": {
    "execution": {
     "iopub.execute_input": "2024-12-07T17:25:54.065852Z",
     "iopub.status.busy": "2024-12-07T17:25:54.065615Z",
     "iopub.status.idle": "2024-12-07T17:25:54.068386Z",
     "shell.execute_reply": "2024-12-07T17:25:54.067910Z"
    },
    "lines_to_next_cell": 2
   },
   "outputs": [],
   "source": [
    "# https://pandas.pydata.org/pandas-docs/stable/user_guide/copy_on_write.html\n",
    "pd.options.mode.copy_on_write = True"
   ]
  },
  {
   "cell_type": "code",
   "execution_count": 3,
   "id": "1a1c6a49",
   "metadata": {
    "execution": {
     "iopub.execute_input": "2024-12-07T17:25:54.070348Z",
     "iopub.status.busy": "2024-12-07T17:25:54.070155Z",
     "iopub.status.idle": "2024-12-07T17:25:54.118132Z",
     "shell.execute_reply": "2024-12-07T17:25:54.117660Z"
    },
    "lines_to_next_cell": 2
   },
   "outputs": [
    {
     "name": "stdout",
     "output_type": "stream",
     "text": [
      "Базовая вторичка\n",
      "Ипотека будет выплачена за 5 лет 8 мес.\n",
      "Стоимость недвижимости 10 000 000\n",
      "Первоначальный взнос 5 000 000\n",
      "Процентная ставка 15.0%\n",
      "Начальный срок ипотеки 30\n",
      "Планируемый ежемесячный платеж 100 000\n",
      "Планируемые разовые платежи снижающие срок:\n",
      "\n",
      "Планируемые разовые платежи снижающие платёж:\n",
      "\t  7 мес: 520 000\n"
     ]
    },
    {
     "data": {
      "text/html": [
       "<style type=\"text/css\">\n",
       "</style>\n",
       "<table id=\"T_0b736\">\n",
       "  <thead>\n",
       "    <tr>\n",
       "      <th id=\"T_0b736_level0_col0\" class=\"col_heading level0 col0\" >Полных лет</th>\n",
       "      <th id=\"T_0b736_level0_col1\" class=\"col_heading level0 col1\" >Обязательный платёж</th>\n",
       "    </tr>\n",
       "  </thead>\n",
       "  <tbody>\n",
       "    <tr>\n",
       "      <td id=\"T_0b736_row0_col0\" class=\"data row0 col0\" >1</td>\n",
       "      <td id=\"T_0b736_row0_col1\" class=\"data row0 col1\" >50 127</td>\n",
       "    </tr>\n",
       "    <tr>\n",
       "      <td id=\"T_0b736_row1_col0\" class=\"data row1 col0\" >2</td>\n",
       "      <td id=\"T_0b736_row1_col1\" class=\"data row1 col1\" >41 924</td>\n",
       "    </tr>\n",
       "    <tr>\n",
       "      <td id=\"T_0b736_row2_col0\" class=\"data row2 col0\" >3</td>\n",
       "      <td id=\"T_0b736_row2_col1\" class=\"data row2 col1\" >32 403</td>\n",
       "    </tr>\n",
       "    <tr>\n",
       "      <td id=\"T_0b736_row3_col0\" class=\"data row3 col0\" >4</td>\n",
       "      <td id=\"T_0b736_row3_col1\" class=\"data row3 col1\" >21 351</td>\n",
       "    </tr>\n",
       "    <tr>\n",
       "      <td id=\"T_0b736_row4_col0\" class=\"data row4 col0\" >5</td>\n",
       "      <td id=\"T_0b736_row4_col1\" class=\"data row4 col1\" >8 522</td>\n",
       "    </tr>\n",
       "  </tbody>\n",
       "</table>\n"
      ],
      "text/plain": [
       "<pandas.io.formats.style.Styler at 0x7ae438357490>"
      ]
     },
     "metadata": {},
     "output_type": "display_data"
    }
   ],
   "source": [
    "print(\"Базовая вторичка\")\n",
    "cheap_ugly_second_hand = Mortgage(\n",
    "    property_cost=10_000_000,\n",
    "    initial_payment=5_000_000,\n",
    "    annual_interest_rate_percent=15.0,\n",
    "    amortization_period_years=30,\n",
    "    actual_monthly_payment=100_000,\n",
    "    # payments_reducing_duration={7: 520_000},\n",
    "    payments_reducing_payment={7: 520_000},\n",
    ")\n",
    "cheap_ugly_second_hand.print_mortgage_main_info()"
   ]
  },
  {
   "cell_type": "code",
   "execution_count": 4,
   "id": "d26729a5",
   "metadata": {
    "execution": {
     "iopub.execute_input": "2024-12-07T17:25:54.120291Z",
     "iopub.status.busy": "2024-12-07T17:25:54.120087Z",
     "iopub.status.idle": "2024-12-07T17:25:54.129206Z",
     "shell.execute_reply": "2024-12-07T17:25:54.128671Z"
    },
    "lines_to_next_cell": 2
   },
   "outputs": [
    {
     "name": "stdout",
     "output_type": "stream",
     "text": [
      "Приличная вторичка\n",
      "Ипотека будет выплачена за 19 лет 0 мес.\n",
      "Стоимость недвижимости 13 000 000\n",
      "Первоначальный взнос 5 000 000\n",
      "Процентная ставка 15.0%\n",
      "Начальный срок ипотеки 30\n",
      "Планируемый ежемесячный платеж 100 000\n",
      "Планируемые разовые платежи снижающие срок:\n",
      "\n",
      "Планируемые разовые платежи снижающие платёж:\n",
      "\t  7 мес: 520 000\n"
     ]
    },
    {
     "data": {
      "text/html": [
       "<style type=\"text/css\">\n",
       "</style>\n",
       "<table id=\"T_7a9cc\">\n",
       "  <thead>\n",
       "    <tr>\n",
       "      <th id=\"T_7a9cc_level0_col0\" class=\"col_heading level0 col0\" >Полных лет</th>\n",
       "      <th id=\"T_7a9cc_level0_col1\" class=\"col_heading level0 col1\" >Обязательный платёж</th>\n",
       "    </tr>\n",
       "  </thead>\n",
       "  <tbody>\n",
       "    <tr>\n",
       "      <td id=\"T_7a9cc_row0_col0\" class=\"data row0 col0\" >1</td>\n",
       "      <td id=\"T_7a9cc_row0_col1\" class=\"data row0 col1\" >94 159</td>\n",
       "    </tr>\n",
       "    <tr>\n",
       "      <td id=\"T_7a9cc_row1_col0\" class=\"data row1 col0\" >2</td>\n",
       "      <td id=\"T_7a9cc_row1_col1\" class=\"data row1 col1\" >93 034</td>\n",
       "    </tr>\n",
       "    <tr>\n",
       "      <td id=\"T_7a9cc_row2_col0\" class=\"data row2 col0\" >3</td>\n",
       "      <td id=\"T_7a9cc_row2_col1\" class=\"data row2 col1\" >91 728</td>\n",
       "    </tr>\n",
       "    <tr>\n",
       "      <td id=\"T_7a9cc_row3_col0\" class=\"data row3 col0\" >4</td>\n",
       "      <td id=\"T_7a9cc_row3_col1\" class=\"data row3 col1\" >90 213</td>\n",
       "    </tr>\n",
       "    <tr>\n",
       "      <td id=\"T_7a9cc_row4_col0\" class=\"data row4 col0\" >5</td>\n",
       "      <td id=\"T_7a9cc_row4_col1\" class=\"data row4 col1\" >88 454</td>\n",
       "    </tr>\n",
       "    <tr>\n",
       "      <td id=\"T_7a9cc_row5_col0\" class=\"data row5 col0\" >6</td>\n",
       "      <td id=\"T_7a9cc_row5_col1\" class=\"data row5 col1\" >86 412</td>\n",
       "    </tr>\n",
       "    <tr>\n",
       "      <td id=\"T_7a9cc_row6_col0\" class=\"data row6 col0\" >7</td>\n",
       "      <td id=\"T_7a9cc_row6_col1\" class=\"data row6 col1\" >84 042</td>\n",
       "    </tr>\n",
       "    <tr>\n",
       "      <td id=\"T_7a9cc_row7_col0\" class=\"data row7 col0\" >8</td>\n",
       "      <td id=\"T_7a9cc_row7_col1\" class=\"data row7 col1\" >81 291</td>\n",
       "    </tr>\n",
       "    <tr>\n",
       "      <td id=\"T_7a9cc_row8_col0\" class=\"data row8 col0\" >9</td>\n",
       "      <td id=\"T_7a9cc_row8_col1\" class=\"data row8 col1\" >78 098</td>\n",
       "    </tr>\n",
       "    <tr>\n",
       "      <td id=\"T_7a9cc_row9_col0\" class=\"data row9 col0\" >10</td>\n",
       "      <td id=\"T_7a9cc_row9_col1\" class=\"data row9 col1\" >74 392</td>\n",
       "    </tr>\n",
       "    <tr>\n",
       "      <td id=\"T_7a9cc_row10_col0\" class=\"data row10 col0\" >11</td>\n",
       "      <td id=\"T_7a9cc_row10_col1\" class=\"data row10 col1\" >70 089</td>\n",
       "    </tr>\n",
       "    <tr>\n",
       "      <td id=\"T_7a9cc_row11_col0\" class=\"data row11 col0\" >12</td>\n",
       "      <td id=\"T_7a9cc_row11_col1\" class=\"data row11 col1\" >65 095</td>\n",
       "    </tr>\n",
       "    <tr>\n",
       "      <td id=\"T_7a9cc_row12_col0\" class=\"data row12 col0\" >13</td>\n",
       "      <td id=\"T_7a9cc_row12_col1\" class=\"data row12 col1\" >59 299</td>\n",
       "    </tr>\n",
       "    <tr>\n",
       "      <td id=\"T_7a9cc_row13_col0\" class=\"data row13 col0\" >14</td>\n",
       "      <td id=\"T_7a9cc_row13_col1\" class=\"data row13 col1\" >52 570</td>\n",
       "    </tr>\n",
       "    <tr>\n",
       "      <td id=\"T_7a9cc_row14_col0\" class=\"data row14 col0\" >15</td>\n",
       "      <td id=\"T_7a9cc_row14_col1\" class=\"data row14 col1\" >44 760</td>\n",
       "    </tr>\n",
       "    <tr>\n",
       "      <td id=\"T_7a9cc_row15_col0\" class=\"data row15 col0\" >16</td>\n",
       "      <td id=\"T_7a9cc_row15_col1\" class=\"data row15 col1\" >35 694</td>\n",
       "    </tr>\n",
       "    <tr>\n",
       "      <td id=\"T_7a9cc_row16_col0\" class=\"data row16 col0\" >17</td>\n",
       "      <td id=\"T_7a9cc_row16_col1\" class=\"data row16 col1\" >25 171</td>\n",
       "    </tr>\n",
       "    <tr>\n",
       "      <td id=\"T_7a9cc_row17_col0\" class=\"data row17 col0\" >18</td>\n",
       "      <td id=\"T_7a9cc_row17_col1\" class=\"data row17 col1\" >12 956</td>\n",
       "    </tr>\n",
       "    <tr>\n",
       "      <td id=\"T_7a9cc_row18_col0\" class=\"data row18 col0\" >19</td>\n",
       "      <td id=\"T_7a9cc_row18_col1\" class=\"data row18 col1\" >0</td>\n",
       "    </tr>\n",
       "  </tbody>\n",
       "</table>\n"
      ],
      "text/plain": [
       "<pandas.io.formats.style.Styler at 0x7ae44c6172b0>"
      ]
     },
     "metadata": {},
     "output_type": "display_data"
    }
   ],
   "source": [
    "print(\"Приличная вторичка\")\n",
    "well_enough_second_hand = replace(\n",
    "    cheap_ugly_second_hand,\n",
    "    property_cost=13_000_000,\n",
    ")\n",
    "well_enough_second_hand.print_mortgage_main_info()"
   ]
  },
  {
   "cell_type": "code",
   "execution_count": 5,
   "id": "8ade7170",
   "metadata": {
    "execution": {
     "iopub.execute_input": "2024-12-07T17:25:54.131247Z",
     "iopub.status.busy": "2024-12-07T17:25:54.131078Z",
     "iopub.status.idle": "2024-12-07T17:25:54.139765Z",
     "shell.execute_reply": "2024-12-07T17:25:54.139270Z"
    },
    "lines_to_next_cell": 2
   },
   "outputs": [
    {
     "name": "stdout",
     "output_type": "stream",
     "text": [
      "Приличная вторичка после продажи базовой вторички\n",
      "Ипотека будет выплачена за 3 лет 1 мес.\n",
      "Стоимость недвижимости 13 000 000\n",
      "Первоначальный взнос 10 000 000\n",
      "Процентная ставка 15.0%\n",
      "Начальный срок ипотеки 30\n",
      "Планируемый ежемесячный платеж 100 000\n",
      "Планируемые разовые платежи снижающие срок:\n",
      "\n",
      "Планируемые разовые платежи снижающие платёж:\n",
      "\n"
     ]
    },
    {
     "data": {
      "text/html": [
       "<style type=\"text/css\">\n",
       "</style>\n",
       "<table id=\"T_3367e\">\n",
       "  <thead>\n",
       "    <tr>\n",
       "      <th id=\"T_3367e_level0_col0\" class=\"col_heading level0 col0\" >Полных лет</th>\n",
       "      <th id=\"T_3367e_level0_col1\" class=\"col_heading level0 col1\" >Обязательный платёж</th>\n",
       "    </tr>\n",
       "  </thead>\n",
       "  <tbody>\n",
       "    <tr>\n",
       "      <td id=\"T_3367e_row0_col0\" class=\"data row0 col0\" >1</td>\n",
       "      <td id=\"T_3367e_row0_col1\" class=\"data row0 col1\" >27 770</td>\n",
       "    </tr>\n",
       "    <tr>\n",
       "      <td id=\"T_3367e_row1_col0\" class=\"data row1 col0\" >2</td>\n",
       "      <td id=\"T_3367e_row1_col1\" class=\"data row1 col1\" >15 973</td>\n",
       "    </tr>\n",
       "    <tr>\n",
       "      <td id=\"T_3367e_row2_col0\" class=\"data row2 col0\" >3</td>\n",
       "      <td id=\"T_3367e_row2_col1\" class=\"data row2 col1\" >2 279</td>\n",
       "    </tr>\n",
       "  </tbody>\n",
       "</table>\n"
      ],
      "text/plain": [
       "<pandas.io.formats.style.Styler at 0x7ae4383573d0>"
      ]
     },
     "metadata": {},
     "output_type": "display_data"
    }
   ],
   "source": [
    "print(\"Приличная вторичка после продажи базовой вторички\")\n",
    "well_enough_after_ugly = replace(\n",
    "    well_enough_second_hand,\n",
    "    initial_payment=cheap_ugly_second_hand.property_cost,\n",
    "    payments_reducing_payment={},  # на втором этапе не получаем льготу\n",
    ")\n",
    "well_enough_after_ugly.print_mortgage_main_info()"
   ]
  },
  {
   "cell_type": "code",
   "execution_count": 6,
   "id": "e969abb4",
   "metadata": {
    "execution": {
     "iopub.execute_input": "2024-12-07T17:25:54.141955Z",
     "iopub.status.busy": "2024-12-07T17:25:54.141734Z",
     "iopub.status.idle": "2024-12-07T17:25:54.150961Z",
     "shell.execute_reply": "2024-12-07T17:25:54.150450Z"
    }
   },
   "outputs": [
    {
     "name": "stdout",
     "output_type": "stream",
     "text": [
      "IT-ипотека\n",
      "Ипотека будет выплачена за 17 лет 8 мес.\n",
      "Стоимость недвижимости 20 000 000\n",
      "Первоначальный взнос 5 000 000\n",
      "Процентная ставка 4.6%\n",
      "Начальный срок ипотеки 30\n",
      "Планируемый ежемесячный платеж 100 000\n",
      "Планируемые разовые платежи снижающие срок:\n",
      "\n",
      "Планируемые разовые платежи снижающие платёж:\n",
      "\t  7 мес: 520 000\n"
     ]
    },
    {
     "data": {
      "text/html": [
       "<style type=\"text/css\">\n",
       "</style>\n",
       "<table id=\"T_d07e0\">\n",
       "  <thead>\n",
       "    <tr>\n",
       "      <th id=\"T_d07e0_level0_col0\" class=\"col_heading level0 col0\" >Полных лет</th>\n",
       "      <th id=\"T_d07e0_level0_col1\" class=\"col_heading level0 col1\" >Обязательный платёж</th>\n",
       "    </tr>\n",
       "  </thead>\n",
       "  <tbody>\n",
       "    <tr>\n",
       "      <td id=\"T_d07e0_row0_col0\" class=\"data row0 col0\" >1</td>\n",
       "      <td id=\"T_d07e0_row0_col1\" class=\"data row0 col1\" >71 509</td>\n",
       "    </tr>\n",
       "    <tr>\n",
       "      <td id=\"T_d07e0_row1_col0\" class=\"data row1 col0\" >2</td>\n",
       "      <td id=\"T_d07e0_row1_col1\" class=\"data row1 col1\" >68 585</td>\n",
       "    </tr>\n",
       "    <tr>\n",
       "      <td id=\"T_d07e0_row2_col0\" class=\"data row2 col0\" >3</td>\n",
       "      <td id=\"T_d07e0_row2_col1\" class=\"data row2 col1\" >65 524</td>\n",
       "    </tr>\n",
       "    <tr>\n",
       "      <td id=\"T_d07e0_row3_col0\" class=\"data row3 col0\" >4</td>\n",
       "      <td id=\"T_d07e0_row3_col1\" class=\"data row3 col1\" >62 320</td>\n",
       "    </tr>\n",
       "    <tr>\n",
       "      <td id=\"T_d07e0_row4_col0\" class=\"data row4 col0\" >5</td>\n",
       "      <td id=\"T_d07e0_row4_col1\" class=\"data row4 col1\" >58 965</td>\n",
       "    </tr>\n",
       "    <tr>\n",
       "      <td id=\"T_d07e0_row5_col0\" class=\"data row5 col0\" >6</td>\n",
       "      <td id=\"T_d07e0_row5_col1\" class=\"data row5 col1\" >55 452</td>\n",
       "    </tr>\n",
       "    <tr>\n",
       "      <td id=\"T_d07e0_row6_col0\" class=\"data row6 col0\" >7</td>\n",
       "      <td id=\"T_d07e0_row6_col1\" class=\"data row6 col1\" >51 774</td>\n",
       "    </tr>\n",
       "    <tr>\n",
       "      <td id=\"T_d07e0_row7_col0\" class=\"data row7 col0\" >8</td>\n",
       "      <td id=\"T_d07e0_row7_col1\" class=\"data row7 col1\" >47 923</td>\n",
       "    </tr>\n",
       "    <tr>\n",
       "      <td id=\"T_d07e0_row8_col0\" class=\"data row8 col0\" >9</td>\n",
       "      <td id=\"T_d07e0_row8_col1\" class=\"data row8 col1\" >43 892</td>\n",
       "    </tr>\n",
       "    <tr>\n",
       "      <td id=\"T_d07e0_row9_col0\" class=\"data row9 col0\" >10</td>\n",
       "      <td id=\"T_d07e0_row9_col1\" class=\"data row9 col1\" >39 671</td>\n",
       "    </tr>\n",
       "    <tr>\n",
       "      <td id=\"T_d07e0_row10_col0\" class=\"data row10 col0\" >11</td>\n",
       "      <td id=\"T_d07e0_row10_col1\" class=\"data row10 col1\" >35 252</td>\n",
       "    </tr>\n",
       "    <tr>\n",
       "      <td id=\"T_d07e0_row11_col0\" class=\"data row11 col0\" >12</td>\n",
       "      <td id=\"T_d07e0_row11_col1\" class=\"data row11 col1\" >30 625</td>\n",
       "    </tr>\n",
       "    <tr>\n",
       "      <td id=\"T_d07e0_row12_col0\" class=\"data row12 col0\" >13</td>\n",
       "      <td id=\"T_d07e0_row12_col1\" class=\"data row12 col1\" >25 781</td>\n",
       "    </tr>\n",
       "    <tr>\n",
       "      <td id=\"T_d07e0_row13_col0\" class=\"data row13 col0\" >14</td>\n",
       "      <td id=\"T_d07e0_row13_col1\" class=\"data row13 col1\" >20 709</td>\n",
       "    </tr>\n",
       "    <tr>\n",
       "      <td id=\"T_d07e0_row14_col0\" class=\"data row14 col0\" >15</td>\n",
       "      <td id=\"T_d07e0_row14_col1\" class=\"data row14 col1\" >15 399</td>\n",
       "    </tr>\n",
       "    <tr>\n",
       "      <td id=\"T_d07e0_row15_col0\" class=\"data row15 col0\" >16</td>\n",
       "      <td id=\"T_d07e0_row15_col1\" class=\"data row15 col1\" >9 839</td>\n",
       "    </tr>\n",
       "    <tr>\n",
       "      <td id=\"T_d07e0_row16_col0\" class=\"data row16 col0\" >17</td>\n",
       "      <td id=\"T_d07e0_row16_col1\" class=\"data row16 col1\" >4 018</td>\n",
       "    </tr>\n",
       "  </tbody>\n",
       "</table>\n"
      ],
      "text/plain": [
       "<pandas.io.formats.style.Styler at 0x7ae438357ac0>"
      ]
     },
     "metadata": {},
     "output_type": "display_data"
    }
   ],
   "source": [
    "print(\"IT-ипотека\")\n",
    "it_mortgage_slavery = replace(\n",
    "    cheap_ugly_second_hand,\n",
    "    property_cost=20_000_000,\n",
    "    annual_interest_rate_percent=4.6,\n",
    ")\n",
    "it_mortgage_slavery.print_mortgage_main_info()"
   ]
  }
 ],
 "metadata": {
  "jupytext": {
   "cell_metadata_filter": "-all"
  },
  "kernelspec": {
   "display_name": "Python 3 (ipykernel)",
   "language": "python",
   "name": "python3"
  },
  "language_info": {
   "codemirror_mode": {
    "name": "ipython",
    "version": 3
   },
   "file_extension": ".py",
   "mimetype": "text/x-python",
   "name": "python",
   "nbconvert_exporter": "python",
   "pygments_lexer": "ipython3",
   "version": "3.10.12"
  }
 },
 "nbformat": 4,
 "nbformat_minor": 5
}
